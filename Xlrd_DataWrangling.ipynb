{
 "cells": [
  {
   "cell_type": "code",
   "execution_count": 20,
   "metadata": {
    "collapsed": false
   },
   "outputs": [
    {
     "name": "stdout",
     "output_type": "stream",
     "text": [
      "\n",
      "List Comprehension\n",
      "data[3][1]:\n",
      "95.0\n",
      "\n",
      "Cells in a nested loop:\n",
      "Summer Reading\n",
      "14.0\n",
      "\n",
      "ROWS, COLUMNS, and CELLS:\n",
      "Number of rows in the sheet:\n",
      "192\n",
      "Number of columns in the sheet:\n",
      "2\n",
      "Type of data in cell (row 7, col 1):\n",
      "2\n",
      "Value in cell (row 23, col 0):\n",
      "Starting Over\n",
      "Get a slice of values in column 1, from rows 1-3:\n",
      "[236.0, 120.0, 95.0]\n",
      "\n",
      "DATES:\n",
      "Type of data in cell (row 1, col 0):\n",
      "1\n"
     ]
    }
   ],
   "source": [
    "import xlrd\n",
    "\n",
    "#Reading and retrieving values from .xls files\n",
    "#Time functions work only on first data file due to data unavailability in second\n",
    "\n",
    "#datafile = \"2013_ERCOT_Hourly_Load_Data.xls\"\n",
    "datafile = \"Stat.xls\"\n",
    "\n",
    "def parse_file(datafile):\n",
    "    workbook = xlrd.open_workbook(datafile)\n",
    "    sheet = workbook.sheet_by_index(0)\n",
    "\n",
    "    data = [[sheet.cell_value(r, col) \n",
    "                for col in range(sheet.ncols)] \n",
    "                    for r in range(sheet.nrows)]\n",
    "    \n",
    "    print(\"\\nList Comprehension\")\n",
    "    print(\"data[3][1]:\",)\n",
    "    print(data[3][1])\n",
    "    \n",
    "    print (\"\\nCells in a nested loop:\"    )\n",
    "    for row in range(sheet.nrows):\n",
    "        for col in range(sheet.ncols):\n",
    "            if row == 50:\n",
    "                print (sheet.cell_value(row, col),)\n",
    "                \n",
    "    \n",
    "    ### other useful methods:\n",
    "    print (\"\\nROWS, COLUMNS, and CELLS:\")\n",
    "    print (\"Number of rows in the sheet:\", )\n",
    "    print (sheet.nrows)\n",
    "    print (\"Number of columns in the sheet:\", )\n",
    "    print (sheet.ncols)\n",
    "    \n",
    "    print (\"Type of data in cell (row 7, col 1):\", )\n",
    "    print (sheet.cell_type(7, 1))\n",
    "    print (\"Value in cell (row 23, col 0):\", )\n",
    "    print (sheet.cell_value(23, 0))\n",
    "    print (\"Get a slice of values in column 1, from rows 1-3:\")\n",
    "    print (sheet.col_values(1, start_rowx=1, end_rowx=4))\n",
    "\n",
    "    print (\"\\nDATES:\")\n",
    "    print (\"Type of data in cell (row 1, col 0):\", )\n",
    "    print (sheet.cell_type(1, 0))\n",
    "    exceltime = sheet.cell_value(1, 0)\n",
    "    \n",
    "    #Time format\n",
    "    #print (\"Time in Excel format:\",)\n",
    "    #print (exceltime)\n",
    "    #print (\"Convert time to a Python datetime tuple, from the Excel float:\",)\n",
    "    #print (xlrd.xldate_as_tuple(exceltime, 0))\n",
    "    \n",
    "                \n",
    "    return data\n",
    "\n",
    "data = parse_file(datafile)\n",
    "\n"
   ]
  },
  {
   "cell_type": "code",
   "execution_count": null,
   "metadata": {
    "collapsed": true
   },
   "outputs": [],
   "source": []
  },
  {
   "cell_type": "code",
   "execution_count": null,
   "metadata": {
    "collapsed": true
   },
   "outputs": [],
   "source": []
  }
 ],
 "metadata": {
  "kernelspec": {
   "display_name": "Python 3",
   "language": "python",
   "name": "python3"
  },
  "language_info": {
   "codemirror_mode": {
    "name": "ipython",
    "version": 3
   },
   "file_extension": ".py",
   "mimetype": "text/x-python",
   "name": "python",
   "nbconvert_exporter": "python",
   "pygments_lexer": "ipython3",
   "version": "3.6.0"
  }
 },
 "nbformat": 4,
 "nbformat_minor": 2
}
